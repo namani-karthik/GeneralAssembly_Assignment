{
 "cells": [
  {
   "cell_type": "markdown",
   "metadata": {},
   "source": [
    "# Part-1"
   ]
  },
  {
   "cell_type": "code",
   "execution_count": 1,
   "metadata": {},
   "outputs": [],
   "source": [
    "%matplotlib inline\n",
    "import matplotlib.pyplot as plt"
   ]
  },
  {
   "cell_type": "code",
   "execution_count": 2,
   "metadata": {},
   "outputs": [],
   "source": [
    "# Function to retrieve Column Headers in List\n",
    "def Reading_Headers():\n",
    "    f_col_headers=open('field_names.txt','r')\n",
    "    col_headers=[]\n",
    "    for i in f_col_headers.readlines():\n",
    "        if i:\n",
    "            i=i.strip(\"\\n\")\n",
    "            col_headers.append(i)\n",
    "    return col_headers"
   ]
  },
  {
   "cell_type": "markdown",
   "metadata": {},
   "source": [
    "#### Reading_Headers is a function to retrieve the Column headers from the text file"
   ]
  },
  {
   "cell_type": "code",
   "execution_count": 3,
   "metadata": {},
   "outputs": [],
   "source": [
    "import numpy\n",
    "import matplotlib.pyplot as plot\n",
    "def bootstrap(index,sample_size):\n",
    "    sample_list=[]\n",
    "    for i in range(0,sample_size):\n",
    "        sample=numpy.random.choice(index,size=1)\n",
    "        sample_list.append(int(sample))\n",
    "    return sample_list"
   ]
  },
  {
   "cell_type": "markdown",
   "metadata": {},
   "source": [
    "#### BootStrap function to draw the samples. Here logic is, I am redrawing the index number as the sample_size input.\n",
    "and returning the sample_list which consists of the index numbers"
   ]
  },
  {
   "cell_type": "code",
   "execution_count": 4,
   "metadata": {},
   "outputs": [
    {
     "name": "stdout",
     "output_type": "stream",
     "text": [
      "Smooth Mean=diagnosis\n",
      "0    2.000321\n",
      "1    4.323929\n",
      "Name: smoothness_mean, dtype: float64,Smooth Median=diagnosis\n",
      "0    1.8510\n",
      "1    3.6795\n",
      "Name: smoothness_mean, dtype: float64,compact Mean=diagnosis\n",
      "0    0.021438\n",
      "1    0.032281\n",
      "Name: compactness_mean, dtype: float64,compact Median=diagnosis\n",
      "0    0.01631\n",
      "1    0.02859\n",
      "Name: compactness_mean, dtype: float64\n"
     ]
    }
   ],
   "source": [
    "import pandas as pd\n",
    "\n",
    "#Collecting Column headers into a List\n",
    "col_headers=Reading_Headers()\n",
    "\n",
    "\n",
    "#Reading breast-cancer data and creating dataframe with respective column headers\n",
    "df=pd.read_csv('breast-cancer.csv',names=col_headers) #dataframe with actual data for any refernce\n",
    "d=pd.read_csv('breast-cancer.csv',names=col_headers)\n",
    "\n",
    "#As diagnosis is the label feature of the data set and as given in categorial type we need to change it to numerical type\n",
    "d.diagnosis=[1 if each==\"M\" else 0 for each in df.diagnosis]\n",
    "y=d['diagnosis']\n",
    "\n",
    "# droping the diagnosis column from the dataframe\n",
    "#d.drop(['ID'],axis=1,inplace=True)\n",
    "\n",
    "\n",
    "smooth_mean=d.groupby(['diagnosis'])['smoothness_mean'].mean()\n",
    "smooth_median=d.groupby(['diagnosis'])['smoothness_mean'].median()\n",
    "compact_mean=d.groupby(['diagnosis'])['compactness_mean'].mean()\n",
    "compact_median=d.groupby(['diagnosis'])['compactness_mean'].median()\n",
    "print('Smooth Mean={},Smooth Median={},compact Mean={},compact Median={}'.format(smooth_mean,smooth_median,compact_mean,compact_median))\n"
   ]
  },
  {
   "cell_type": "markdown",
   "metadata": {},
   "source": [
    "###### Program to read the column headers and save the csv file into DataFrame df.\n",
    "code to analysis the mean and medians of the respective columns as part of the assignment\n",
    "\n",
    "#Comment: Yes Mean and median differ in both cases. Smoothness mean and median as well as Compactness mean and median values are calucalulated based on the mean values given in the dataset using 'groupby on diagnosis column' of dataframe, so that we can get different values for Malignant and Benign cancers\n",
    "\n",
    "##### Observation: Smoothness: Mean is larger than Median for both Malignant and Benign Cancers, which indicates data is right skewed\n",
    "\n",
    "#### Observation: Compactness: Mean is slightly larger than Median for both Malignant and Benign Cancers, which indicates data is slightly right skewed"
   ]
  },
  {
   "cell_type": "code",
   "execution_count": 5,
   "metadata": {},
   "outputs": [
    {
     "name": "stdout",
     "output_type": "stream",
     "text": [
      "0.03976850962171701 :Correlation Coefficient for feature ID  and diagnosis\n",
      "1.0 :Correlation Coefficient for feature diagnosis  and diagnosis\n",
      "0.7300285113754564 :Correlation Coefficient for feature radius_mean  and diagnosis\n",
      "0.4151852998452044 :Correlation Coefficient for feature radius_sd_error  and diagnosis\n",
      "0.7426355297258331 :Correlation Coefficient for feature radius_worst  and diagnosis\n",
      "0.70898383658539 :Correlation Coefficient for feature texture_mean  and diagnosis\n",
      "0.3585599650859321 :Correlation Coefficient for feature texture_sd_error  and diagnosis\n",
      "0.5965336775082533 :Correlation Coefficient for feature texture_worst  and diagnosis\n",
      "0.6963597071719058 :Correlation Coefficient for feature perimeter_mean  and diagnosis\n",
      "0.7766138400204354 :Correlation Coefficient for feature perimeter_sd_error  and diagnosis\n",
      "0.3304985542625471 :Correlation Coefficient for feature perimeter_worst  and diagnosis\n",
      "-0.012837602698432378 :Correlation Coefficient for feature area_mean  and diagnosis\n",
      "0.5671338208247177 :Correlation Coefficient for feature area_sd_error  and diagnosis\n",
      "-0.00830333297387742 :Correlation Coefficient for feature area_worst  and diagnosis\n",
      "0.5561407034314831 :Correlation Coefficient for feature smoothness_mean  and diagnosis\n",
      "0.5482359402780244 :Correlation Coefficient for feature smoothness_sd_error  and diagnosis\n",
      "-0.0670160105794873 :Correlation Coefficient for feature smoothness_worst  and diagnosis\n",
      "0.29299924424885837 :Correlation Coefficient for feature compactness_mean  and diagnosis\n",
      "0.25372976598083036 :Correlation Coefficient for feature compactness_sd_error  and diagnosis\n",
      "0.4080423327165046 :Correlation Coefficient for feature compactness_worst  and diagnosis\n",
      "-0.006521755870647988 :Correlation Coefficient for feature concavity_mean  and diagnosis\n",
      "0.07797241739025614 :Correlation Coefficient for feature concavity_sd_error  and diagnosis\n",
      "0.7764537785950396 :Correlation Coefficient for feature concavity_worst  and diagnosis\n",
      "0.4569028213967983 :Correlation Coefficient for feature concave_points_mean  and diagnosis\n",
      "0.7829141371737592 :Correlation Coefficient for feature concave_points_sd_error  and diagnosis\n",
      "0.733825034921051 :Correlation Coefficient for feature concave_points_worst  and diagnosis\n",
      "0.4214648610664027 :Correlation Coefficient for feature symmetry_mean  and diagnosis\n",
      "0.590998237841792 :Correlation Coefficient for feature symmetry_sd_error  and diagnosis\n",
      "0.659610210369233 :Correlation Coefficient for feature symmetry_worst  and diagnosis\n",
      "0.79356601714127 :Correlation Coefficient for feature fractal_dimension_mean  and diagnosis\n",
      "0.4162943110486191 :Correlation Coefficient for feature fractal_dimension_sd_error  and diagnosis\n",
      "0.3238721887208239 :Correlation Coefficient for feature fractal_dimension_worst  and diagnosis\n"
     ]
    }
   ],
   "source": [
    "from scipy.stats import pearsonr\n",
    "for i in d.columns:\n",
    "    print(pearsonr(d[i],d['diagnosis'])[0],':Correlation Coefficient for feature',i,' and diagnosis')"
   ]
  },
  {
   "cell_type": "markdown",
   "metadata": {},
   "source": [
    "###### code to determine the correlation coef."
   ]
  },
  {
   "cell_type": "code",
   "execution_count": 6,
   "metadata": {},
   "outputs": [
    {
     "data": {
      "text/html": [
       "<div>\n",
       "<style scoped>\n",
       "    .dataframe tbody tr th:only-of-type {\n",
       "        vertical-align: middle;\n",
       "    }\n",
       "\n",
       "    .dataframe tbody tr th {\n",
       "        vertical-align: top;\n",
       "    }\n",
       "\n",
       "    .dataframe thead th {\n",
       "        text-align: right;\n",
       "    }\n",
       "</style>\n",
       "<table border=\"1\" class=\"dataframe\">\n",
       "  <thead>\n",
       "    <tr style=\"text-align: right;\">\n",
       "      <th></th>\n",
       "      <th>fractal_dimension_mean</th>\n",
       "      <th>concave_points_sd_error</th>\n",
       "      <th>perimeter_sd_error</th>\n",
       "      <th>diagnosis</th>\n",
       "    </tr>\n",
       "  </thead>\n",
       "  <tbody>\n",
       "    <tr>\n",
       "      <th>0</th>\n",
       "      <td>0.912027</td>\n",
       "      <td>0.668310</td>\n",
       "      <td>0.731113</td>\n",
       "      <td>1.0</td>\n",
       "    </tr>\n",
       "    <tr>\n",
       "      <th>1</th>\n",
       "      <td>0.639175</td>\n",
       "      <td>0.539818</td>\n",
       "      <td>0.348757</td>\n",
       "      <td>1.0</td>\n",
       "    </tr>\n",
       "    <tr>\n",
       "      <th>2</th>\n",
       "      <td>0.835052</td>\n",
       "      <td>0.508442</td>\n",
       "      <td>0.635686</td>\n",
       "      <td>1.0</td>\n",
       "    </tr>\n",
       "    <tr>\n",
       "      <th>3</th>\n",
       "      <td>0.884880</td>\n",
       "      <td>0.241347</td>\n",
       "      <td>0.522863</td>\n",
       "      <td>1.0</td>\n",
       "    </tr>\n",
       "    <tr>\n",
       "      <th>4</th>\n",
       "      <td>0.558419</td>\n",
       "      <td>0.506948</td>\n",
       "      <td>0.518390</td>\n",
       "      <td>1.0</td>\n",
       "    </tr>\n",
       "    <tr>\n",
       "      <th>...</th>\n",
       "      <td>...</td>\n",
       "      <td>...</td>\n",
       "      <td>...</td>\n",
       "      <td>...</td>\n",
       "    </tr>\n",
       "    <tr>\n",
       "      <th>564</th>\n",
       "      <td>0.761512</td>\n",
       "      <td>0.576174</td>\n",
       "      <td>0.690358</td>\n",
       "      <td>1.0</td>\n",
       "    </tr>\n",
       "    <tr>\n",
       "      <th>565</th>\n",
       "      <td>0.559450</td>\n",
       "      <td>0.520892</td>\n",
       "      <td>0.486630</td>\n",
       "      <td>1.0</td>\n",
       "    </tr>\n",
       "    <tr>\n",
       "      <th>566</th>\n",
       "      <td>0.487285</td>\n",
       "      <td>0.379949</td>\n",
       "      <td>0.263519</td>\n",
       "      <td>1.0</td>\n",
       "    </tr>\n",
       "    <tr>\n",
       "      <th>567</th>\n",
       "      <td>0.910653</td>\n",
       "      <td>0.668310</td>\n",
       "      <td>0.755467</td>\n",
       "      <td>1.0</td>\n",
       "    </tr>\n",
       "    <tr>\n",
       "      <th>568</th>\n",
       "      <td>0.000000</td>\n",
       "      <td>0.043578</td>\n",
       "      <td>0.000000</td>\n",
       "      <td>0.0</td>\n",
       "    </tr>\n",
       "  </tbody>\n",
       "</table>\n",
       "<p>569 rows × 4 columns</p>\n",
       "</div>"
      ],
      "text/plain": [
       "     fractal_dimension_mean  concave_points_sd_error  perimeter_sd_error  \\\n",
       "0                  0.912027                 0.668310            0.731113   \n",
       "1                  0.639175                 0.539818            0.348757   \n",
       "2                  0.835052                 0.508442            0.635686   \n",
       "3                  0.884880                 0.241347            0.522863   \n",
       "4                  0.558419                 0.506948            0.518390   \n",
       "..                      ...                      ...                 ...   \n",
       "564                0.761512                 0.576174            0.690358   \n",
       "565                0.559450                 0.520892            0.486630   \n",
       "566                0.487285                 0.379949            0.263519   \n",
       "567                0.910653                 0.668310            0.755467   \n",
       "568                0.000000                 0.043578            0.000000   \n",
       "\n",
       "     diagnosis  \n",
       "0          1.0  \n",
       "1          1.0  \n",
       "2          1.0  \n",
       "3          1.0  \n",
       "4          1.0  \n",
       "..         ...  \n",
       "564        1.0  \n",
       "565        1.0  \n",
       "566        1.0  \n",
       "567        1.0  \n",
       "568        0.0  \n",
       "\n",
       "[569 rows x 4 columns]"
      ]
     },
     "execution_count": 6,
     "metadata": {},
     "output_type": "execute_result"
    }
   ],
   "source": [
    "from sklearn import preprocessing\n",
    "labels=['fractal_dimension_mean','concave_points_sd_error','perimeter_sd_error','diagnosis']\n",
    "standardized_data=pd.DataFrame()\n",
    "for i in labels:\n",
    "    standardized_data[i]=preprocessing.minmax_scale(d[i])\n",
    "standardized_data"
   ]
  },
  {
   "cell_type": "markdown",
   "metadata": {},
   "source": [
    "##### Creating a labels of the  feature with highest corr values"
   ]
  },
  {
   "cell_type": "code",
   "execution_count": 7,
   "metadata": {},
   "outputs": [
    {
     "data": {
      "image/png": "[encoded data removed]",
      "text/plain": [
       "<Figure size 432x288 with 1 Axes>"
      ]
     },
     "metadata": {
      "needs_background": "light"
     },
     "output_type": "display_data"
    },
    {
     "data": {
      "image/png": "[encoded data removed]",
      "text/plain": [
       "<Figure size 432x288 with 1 Axes>"
      ]
     },
     "metadata": {
      "needs_background": "light"
     },
     "output_type": "display_data"
    },
    {
     "data": {
      "image/png": "[encoded data removed]",
      "text/plain": [
       "<Figure size 432x288 with 1 Axes>"
      ]
     },
     "metadata": {
      "needs_background": "light"
     },
     "output_type": "display_data"
    }
   ],
   "source": [
    "import seaborn as sns\n",
    "labels=['fractal_dimension_mean','concave_points_sd_error','perimeter_sd_error']\n",
    "for i in labels:\n",
    "    ax=sns.scatterplot(d[i],d['diagnosis'])\n",
    "    ax.set(xlabel=i,ylabel='diagnosis')\n",
    "    plt.show()"
   ]
  },
  {
   "cell_type": "markdown",
   "metadata": {},
   "source": [
    "###### Visual representation of the features and diagnosis"
   ]
  },
  {
   "cell_type": "markdown",
   "metadata": {},
   "source": [
    "Above scatter plot clearly indicating that as the value of feature is increasing there is a clear inclination to diagnosis value to be 1, which is intern representation for Cancer to Malignant."
   ]
  },
  {
   "cell_type": "code",
   "execution_count": 8,
   "metadata": {},
   "outputs": [],
   "source": [
    "from sklearn.model_selection import train_test_split\n",
    "bootstrap_index=bootstrap(standardized_data.index,3000)\n",
    "standardized_bootstraped_data=pd.DataFrame(columns=col_headers)\n",
    "j=0\n",
    "for i in bootstrap_index:\n",
    "    standardized_bootstraped_data.loc[j]=(d.iloc[i])\n",
    "    j+=1\n",
    "\n",
    "y=pd.DataFrame(standardized_bootstraped_data['diagnosis'])\n",
    "# droping the diagnosis column from the dataframe\n",
    "standardized_bootstraped_data.drop(['diagnosis'],axis=1,inplace=True)\n",
    "standardized_bootstraped_data.drop(['ID'],axis=1,inplace=True)\n",
    "\n",
    "standardized_bootstraped_Malignant_features_data=pd.DataFrame()\n",
    "standardized_bootstraped_Malignant_features_data['fractal_dimension_mean']=standardized_bootstraped_data['fractal_dimension_mean']\n",
    "standardized_bootstraped_Malignant_features_data['concave_points_sd_error']=standardized_bootstraped_data['concave_points_sd_error']\n",
    "standardized_bootstraped_Malignant_features_data['perimeter_sd_error']=standardized_bootstraped_data['perimeter_sd_error']"
   ]
  },
  {
   "cell_type": "markdown",
   "metadata": {},
   "source": [
    "###### Based on the index values returned by the bootstrap function, standardized_bootstraped_data is constructed. 'diagnosis' and 'ID' columns are dropped. New dataframe standardized_bootstraped_Malignant_features_data is constructed"
   ]
  },
  {
   "cell_type": "code",
   "execution_count": 9,
   "metadata": {},
   "outputs": [],
   "source": [
    "from sklearn.model_selection import train_test_split\n",
    "X_train,X_test,y_train,y_test=train_test_split(standardized_bootstraped_Malignant_features_data,y,test_size=0.2,random_state=42)"
   ]
  },
  {
   "cell_type": "markdown",
   "metadata": {},
   "source": [
    "###### spliting of data in Training and Testing"
   ]
  },
  {
   "cell_type": "code",
   "execution_count": 10,
   "metadata": {},
   "outputs": [
    {
     "name": "stderr",
     "output_type": "stream",
     "text": [
      "C:\\Users\\Karthik\\Anaconda31\\envs\\PythonGPU\\lib\\site-packages\\sklearn\\utils\\validation.py:744: DataConversionWarning: A column-vector y was passed when a 1d array was expected. Please change the shape of y to (n_samples, ), for example using ravel().\n",
      "  y = column_or_1d(y, warn=True)\n"
     ]
    },
    {
     "data": {
      "text/plain": [
       "SVC(C=1.0, break_ties=False, cache_size=200, class_weight=None, coef0=0.0,\n",
       "    decision_function_shape='ovr', degree=3, gamma='auto', kernel='rbf',\n",
       "    max_iter=-1, probability=False, random_state=None, shrinking=True,\n",
       "    tol=0.001, verbose=False)"
      ]
     },
     "execution_count": 10,
     "metadata": {},
     "output_type": "execute_result"
    }
   ],
   "source": [
    "from sklearn.svm import SVC\n",
    "clf=SVC(gamma='auto')\n",
    "clf.fit(X_train,y_train)"
   ]
  },
  {
   "cell_type": "markdown",
   "metadata": {},
   "source": [
    "###### Here I am using Support Vector Machine algorithm as it very effective in classifing the binary classification. With this model my training data accuracy was about 92 % and test data accuracy was also 91.6%"
   ]
  },
  {
   "cell_type": "code",
   "execution_count": 11,
   "metadata": {},
   "outputs": [
    {
     "data": {
      "text/plain": [
       "0.92"
      ]
     },
     "execution_count": 11,
     "metadata": {},
     "output_type": "execute_result"
    }
   ],
   "source": [
    "clf.score(X_train,y_train)"
   ]
  },
  {
   "cell_type": "code",
   "execution_count": 12,
   "metadata": {},
   "outputs": [
    {
     "data": {
      "text/plain": [
       "0.945"
      ]
     },
     "execution_count": 12,
     "metadata": {},
     "output_type": "execute_result"
    }
   ],
   "source": [
    "clf.score(X_test,y_test)"
   ]
  },
  {
   "cell_type": "markdown",
   "metadata": {},
   "source": [
    "# Evaluation of the data with second model (Neural Network - Tensorflow)"
   ]
  },
  {
   "cell_type": "code",
   "execution_count": 13,
   "metadata": {},
   "outputs": [
    {
     "name": "stdout",
     "output_type": "stream",
     "text": [
      "WARNING:tensorflow:Falling back from v2 loop because of error: Failed to find data adapter that can handle input: <class 'pandas.core.frame.DataFrame'>, <class 'NoneType'>\n",
      "Train on 2400 samples\n",
      "Epoch 1/15\n",
      "2400/2400 [==============================] - 1s 415us/sample - loss: 0.9678 - accuracy: 0.5179\n",
      "Epoch 2/15\n",
      "2400/2400 [==============================] - 0s 95us/sample - loss: 0.6769 - accuracy: 0.6046\n",
      "Epoch 3/15\n",
      "2400/2400 [==============================] - 0s 99us/sample - loss: 0.6188 - accuracy: 0.6775\n",
      "Epoch 4/15\n",
      "2400/2400 [==============================] - 0s 108us/sample - loss: 0.5833 - accuracy: 0.7354\n",
      "Epoch 5/15\n",
      "2400/2400 [==============================] - 0s 126us/sample - loss: 0.5594 - accuracy: 0.7283\n",
      "Epoch 6/15\n",
      "2400/2400 [==============================] - 0s 100us/sample - loss: 0.5281 - accuracy: 0.7583\n",
      "Epoch 7/15\n",
      "2400/2400 [==============================] - 0s 84us/sample - loss: 0.5020 - accuracy: 0.7837\n",
      "Epoch 8/15\n",
      "2400/2400 [==============================] - 0s 88us/sample - loss: 0.4436 - accuracy: 0.8550\n",
      "Epoch 9/15\n",
      "2400/2400 [==============================] - 0s 103us/sample - loss: 0.4021 - accuracy: 0.8863\n",
      "Epoch 10/15\n",
      "2400/2400 [==============================] - 0s 93us/sample - loss: 0.3744 - accuracy: 0.8875\n",
      "Epoch 11/15\n",
      "2400/2400 [==============================] - 0s 98us/sample - loss: 0.3498 - accuracy: 0.8825\n",
      "Epoch 12/15\n",
      "2400/2400 [==============================] - 0s 121us/sample - loss: 0.3218 - accuracy: 0.9062\n",
      "Epoch 13/15\n",
      "2400/2400 [==============================] - 0s 110us/sample - loss: 0.2929 - accuracy: 0.9100\n",
      "Epoch 14/15\n",
      "2400/2400 [==============================] - 0s 89us/sample - loss: 0.2800 - accuracy: 0.9067\n",
      "Epoch 15/15\n",
      "2400/2400 [==============================] - 0s 103us/sample - loss: 0.2678 - accuracy: 0.9087\n"
     ]
    },
    {
     "data": {
      "text/plain": [
       "<tensorflow.python.keras.callbacks.History at 0x28e0888e888>"
      ]
     },
     "execution_count": 13,
     "metadata": {},
     "output_type": "execute_result"
    }
   ],
   "source": [
    "import tensorflow as tf\n",
    "import tensorflow.keras as keras\n",
    "\n",
    "model = keras.Sequential([\n",
    "    keras.layers.Dense(32, activation='relu',input_shape=[len(X_train.keys())]),\n",
    "    keras.layers.Dense(64, activation='relu',input_shape=[len(X_train.keys())]),\n",
    "    keras.layers.Dense(2, activation='softmax')])\n",
    "\n",
    "model.compile(optimizer='adam',\n",
    "              loss='sparse_categorical_crossentropy',\n",
    "              metrics=['accuracy'])\n",
    "\n",
    "model.fit(X_train, y_train, epochs=15)"
   ]
  },
  {
   "cell_type": "markdown",
   "metadata": {},
   "source": [
    "#### Using three layers with hidden layer."
   ]
  },
  {
   "cell_type": "code",
   "execution_count": 18,
   "metadata": {},
   "outputs": [
    {
     "name": "stdout",
     "output_type": "stream",
     "text": [
      "WARNING:tensorflow:Falling back from v2 loop because of error: Failed to find data adapter that can handle input: <class 'pandas.core.frame.DataFrame'>, <class 'NoneType'>\n",
      "600/600 [==============================] - 0s 58us/sample - loss: 0.2159 - accuracy: 0.9400\n",
      "0.2158737579981486 0.94\n"
     ]
    },
    {
     "data": {
      "text/plain": [
       "array([[0.91989744, 0.08010259]], dtype=float32)"
      ]
     },
     "execution_count": 18,
     "metadata": {},
     "output_type": "execute_result"
    }
   ],
   "source": [
    "test_loss,test_acc=model.evaluate(X_test,y_test)\n",
    "print(test_loss,test_acc)\n",
    "model_predict=model.predict([[0.910653,0.668310,0.755467]])\n",
    "model_predict"
   ]
  },
  {
   "cell_type": "markdown",
   "metadata": {},
   "source": [
    "#### Prediction for this input value is accurate, and acheived an accuracy of 94% over test data for chances for malignant Cancer. Actual data also reflect this as Malignant. "
   ]
  },
  {
   "cell_type": "markdown",
   "metadata": {},
   "source": [
    "# Comparison between two models:\n",
    "## SVM: This algo with work good with binary classification, and become complex with multi classification\n",
    "## Nueral Network: Works fine with multi-classification, consumes lot of hardware resources\n",
    "\n",
    "# Performance:\n",
    "## SVM achieved 92% both in training and testing\n",
    "## Neural Netword achieved 91.46 %\n",
    "\n",
    "## with the help of correlation coef values considered three features in both the models."
   ]
  },
  {
   "cell_type": "markdown",
   "metadata": {},
   "source": [
    "# Part - 2"
   ]
  },
  {
   "cell_type": "markdown",
   "metadata": {},
   "source": [
    "## Student 1 code"
   ]
  },
  {
   "cell_type": "code",
   "execution_count": null,
   "metadata": {},
   "outputs": [],
   "source": [
    "import pandas as pd\n",
    "import numpy as np\n",
    "from sklearn import LinearRegression #Comment: LinearRegression class should be derived from sklearn.linearmodel\n",
    "from sklearn.cross_validation import cross_val_score # comment: NO cross_validation class is available in sklearn. Rather cross_val_score should be accessed from sklearn.model_selection\n",
    "\n",
    "# Load data\n",
    "d = pd.read_csv('../data/train.csv')\n",
    "\n",
    "# Setup data for prediction\n",
    "x1 = d.SalaryNormalized # it is not data but it is d\n",
    "x2 = pd.get_dummies(d.ContractType) # it is not data but it is d\n",
    "\n",
    "# Setup model\n",
    "model = LinearRegression()\n",
    "\n",
    "# Evaluate model\n",
    "from sklearn.cross_validation import cross_val_score # comment: NO cross_validation class directly is available in sklearn. Rather cross_val_score should be accessed from sklearn.model_selection\n",
    "from sklearn.cross_validation import train_test_split # comment: NO train_test_split directly class is available in sklearn. Rather cross_val_score should be accessed from sklearn.model_selection\n",
    "scores = cross_val_score(model, x2, x1, cv=1, scoring='mean_absolute_error')\n",
    "print(scores.mean())"
   ]
  },
  {
   "cell_type": "markdown",
   "metadata": {},
   "source": [
    "## Most of the comments are given inline. \n",
    "## Following observation are made:\n",
    "### 1. No exploratory data analysis is done\n",
    "### 2. Trying to predict only using one model...which may not be correct\n",
    "### 3. No model training is carried out\n",
    "### 4. Model fitting is not done\n",
    "### 5. Not able to understand why student is finding the scores of Salary and ContractType\n",
    "### 6. Student not tried to explore categorical data at all...by which be will be leaving out most of the information\n",
    "### 7. Many compile time errors are there in the code\n",
    "\n",
    "# It can be judged that student have not got the conceptual clarity on what he has to do analysis because he tring to identify relationship between salary and ContractType. Here ContractType is filled with dummies. So he tring to identifying relationship with dummies"
   ]
  },
  {
   "cell_type": "markdown",
   "metadata": {},
   "source": [
    "# Student 2 code review "
   ]
  },
  {
   "cell_type": "code",
   "execution_count": null,
   "metadata": {},
   "outputs": [],
   "source": [
    "import pandas as pd\n",
    "import numpy as np\n",
    "from sklearn.linear_model import LinearRegression\n",
    "from sklearn.cross_validation import cross_val_score # comment: NO cross_validation class is available in sklearn. Rather cross_val_score should be accessed from sklearn.model_selection\n",
    "\n",
    "# Load data\n",
    "data = pd.read_csv('../data/train.csv')\n",
    "\n",
    "\n",
    "# Setup data for prediction\n",
    "y = data.SalaryNormalized\n",
    "X = pd.get_dummies(data.ContractType)\n",
    "\n",
    "# Setup model\n",
    "model = LinearRegression()\n",
    "\n",
    "# Evaluate model\n",
    "scores = cross_val_score(model, X, y, cv=5, scoring='mean_absolute_error')\n",
    "print(scores.mean())"
   ]
  },
  {
   "cell_type": "markdown",
   "metadata": {},
   "source": [
    "## Most of the comments are given inline. \n",
    "## Following observation are made:\n",
    "### 1. No exploratory data analysis is done\n",
    "### 2. Trying to predict only using one model...which may not be correct\n",
    "### 3. No model training is carried out\n",
    "### 4. Model fitting is not done\n",
    "### 5. Not able to understand why student is finding the scores of Salary and ContractType\n",
    "### 6. Student not tried to explore categorical data at all...by which be will be leaving out most of the information\n",
    "### 7. compile time errors are there in the code\n",
    "\n",
    "# It can be judged that student have not got the conceptual clarity on what he has to do analysis because he tring to identify relationship between salary and ContractType. Here ContractType is filled with dummies. So he tring to identifying relationship with dummies"
   ]
  }
 ],
 "metadata": {
  "kernelspec": {
   "display_name": "Python 3",
   "language": "python",
   "name": "python3"
  },
  "language_info": {
   "codemirror_mode": {
    "name": "ipython",
    "version": 3
   },
   "file_extension": ".py",
   "mimetype": "text/x-python",
   "name": "python",
   "nbconvert_exporter": "python",
   "pygments_lexer": "ipython3",
   "version": "3.7.5"
  }
 },
 "nbformat": 4,
 "nbformat_minor": 2
}
